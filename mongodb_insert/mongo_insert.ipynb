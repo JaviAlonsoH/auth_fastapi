{
 "cells": [
  {
   "cell_type": "code",
   "execution_count": 9,
   "metadata": {},
   "outputs": [],
   "source": [
    "# conda env = auth_fastapi\n",
    "import csv\n",
    "import pandas as pd\n",
    "from pymongo import MongoClient"
   ]
  },
  {
   "cell_type": "code",
   "execution_count": 10,
   "metadata": {},
   "outputs": [],
   "source": [
    "client = MongoClient(host='localhost', port=27017)\n",
    "db = client.auth_fastapi_db\n",
    "collection = db.properties"
   ]
  },
  {
   "cell_type": "code",
   "execution_count": 11,
   "metadata": {},
   "outputs": [],
   "source": [
    "file_pd = pd.read_csv('./res/assets.csv')\n",
    "df = pd.DataFrame(file_pd)"
   ]
  },
  {
   "cell_type": "code",
   "execution_count": 12,
   "metadata": {},
   "outputs": [
    {
     "data": {
      "text/html": [
       "<div>\n",
       "<style scoped>\n",
       "    .dataframe tbody tr th:only-of-type {\n",
       "        vertical-align: middle;\n",
       "    }\n",
       "\n",
       "    .dataframe tbody tr th {\n",
       "        vertical-align: top;\n",
       "    }\n",
       "\n",
       "    .dataframe thead th {\n",
       "        text-align: right;\n",
       "    }\n",
       "</style>\n",
       "<table border=\"1\" class=\"dataframe\">\n",
       "  <thead>\n",
       "    <tr style=\"text-align: right;\">\n",
       "      <th></th>\n",
       "      <th>build_status</th>\n",
       "      <th>is_active</th>\n",
       "      <th>start_month</th>\n",
       "      <th>construction_type</th>\n",
       "      <th>date_diff</th>\n",
       "      <th>description</th>\n",
       "      <th>date_in</th>\n",
       "      <th>property_type</th>\n",
       "      <th>end_week</th>\n",
       "      <th>typology_type</th>\n",
       "      <th>id</th>\n",
       "      <th>coordinates</th>\n",
       "      <th>boundary_id</th>\n",
       "      <th>id_uda</th>\n",
       "      <th>title</th>\n",
       "      <th>listing_type</th>\n",
       "      <th>date</th>\n",
       "    </tr>\n",
       "  </thead>\n",
       "  <tbody>\n",
       "    <tr>\n",
       "      <th>0</th>\n",
       "      <td>1.0</td>\n",
       "      <td>False</td>\n",
       "      <td>19212.0</td>\n",
       "      <td>2</td>\n",
       "      <td>2.0</td>\n",
       "      <td>-CABANILLAS DEL CAMPO/GUADALAJARA- Disponible ...</td>\n",
       "      <td>2021-05-31T00:00:00.000Z</td>\n",
       "      <td>3.0</td>\n",
       "      <td>15186.0</td>\n",
       "      <td>4.0</td>\n",
       "      <td>6124016</td>\n",
       "      <td>40.64320000000000021600499167107045650482,-3.2...</td>\n",
       "      <td>64607</td>\n",
       "      <td>54-94183090</td>\n",
       "      <td>Alquiler de Casa o chalet en camino de las Peñ...</td>\n",
       "      <td>1.0</td>\n",
       "      <td>2021-06-14T00:00:00.000Z</td>\n",
       "    </tr>\n",
       "    <tr>\n",
       "      <th>1</th>\n",
       "      <td>0.0</td>\n",
       "      <td>False</td>\n",
       "      <td>19213.0</td>\n",
       "      <td>0</td>\n",
       "      <td>0.0</td>\n",
       "      <td>apartamento centrico.</td>\n",
       "      <td>2021-06-07T00:00:00.000Z</td>\n",
       "      <td>0.0</td>\n",
       "      <td>15185.0</td>\n",
       "      <td>0.0</td>\n",
       "      <td>17532763</td>\n",
       "      <td>43.41980000000000217141860048286616802216,-2.7...</td>\n",
       "      <td>85380</td>\n",
       "      <td>54-86410853</td>\n",
       "      <td>Piso en venta en etxebarria tar kresentzi, 8, ...</td>\n",
       "      <td>1.0</td>\n",
       "      <td>2021-06-07T00:00:00.000Z</td>\n",
       "    </tr>\n",
       "    <tr>\n",
       "      <th>2</th>\n",
       "      <td>1.0</td>\n",
       "      <td>False</td>\n",
       "      <td>19201.0</td>\n",
       "      <td>NaN</td>\n",
       "      <td>52.0</td>\n",
       "      <td>NaN</td>\n",
       "      <td>2020-06-29T00:00:00.000Z</td>\n",
       "      <td>4.0</td>\n",
       "      <td>15188.0</td>\n",
       "      <td>2.0</td>\n",
       "      <td>7788217</td>\n",
       "      <td>43.53820000000000334239302901551127433777,-5.6...</td>\n",
       "      <td>75666</td>\n",
       "      <td>27-99196812134_515750</td>\n",
       "      <td>NaN</td>\n",
       "      <td>1.0</td>\n",
       "      <td>2021-06-28T00:00:00.000Z</td>\n",
       "    </tr>\n",
       "    <tr>\n",
       "      <th>3</th>\n",
       "      <td>1.0</td>\n",
       "      <td>False</td>\n",
       "      <td>19205.0</td>\n",
       "      <td>2</td>\n",
       "      <td>36.0</td>\n",
       "      <td>Oportunidad de compra en La Salud. Se trata de...</td>\n",
       "      <td>2020-10-20T00:00:00.000Z</td>\n",
       "      <td>4.0</td>\n",
       "      <td>15188.0</td>\n",
       "      <td>2.0</td>\n",
       "      <td>20344411</td>\n",
       "      <td>28.46920000000000072759576141834259033203,-16....</td>\n",
       "      <td>79040</td>\n",
       "      <td>54-91422840</td>\n",
       "      <td>Piso en venta en guia de isora</td>\n",
       "      <td>1.0</td>\n",
       "      <td>2021-06-28T00:00:00.000Z</td>\n",
       "    </tr>\n",
       "    <tr>\n",
       "      <th>4</th>\n",
       "      <td>0.0</td>\n",
       "      <td>False</td>\n",
       "      <td>19213.0</td>\n",
       "      <td>0</td>\n",
       "      <td>0.0</td>\n",
       "      <td>VICÁLVARO CASCO HISTÓRICO la vivienda consta d...</td>\n",
       "      <td>2021-06-04T00:00:00.000Z</td>\n",
       "      <td>0.0</td>\n",
       "      <td>15184.0</td>\n",
       "      <td>0.0</td>\n",
       "      <td>5665884</td>\n",
       "      <td>40.40039999999999764668245916254818439484,-3.6...</td>\n",
       "      <td>71410</td>\n",
       "      <td>54-93946671</td>\n",
       "      <td>Alquiler de Piso en Casco Histórico de Vicálva...</td>\n",
       "      <td>1.0</td>\n",
       "      <td>2021-06-04T00:00:00.000Z</td>\n",
       "    </tr>\n",
       "  </tbody>\n",
       "</table>\n",
       "</div>"
      ],
      "text/plain": [
       "   build_status is_active  start_month construction_type  date_diff  \\\n",
       "0           1.0     False      19212.0                 2        2.0   \n",
       "1           0.0     False      19213.0                 0        0.0   \n",
       "2           1.0     False      19201.0               NaN       52.0   \n",
       "3           1.0     False      19205.0                 2       36.0   \n",
       "4           0.0     False      19213.0                 0        0.0   \n",
       "\n",
       "                                         description  \\\n",
       "0  -CABANILLAS DEL CAMPO/GUADALAJARA- Disponible ...   \n",
       "1                              apartamento centrico.   \n",
       "2                                                NaN   \n",
       "3  Oportunidad de compra en La Salud. Se trata de...   \n",
       "4  VICÁLVARO CASCO HISTÓRICO la vivienda consta d...   \n",
       "\n",
       "                    date_in  property_type  end_week  typology_type        id  \\\n",
       "0  2021-05-31T00:00:00.000Z            3.0   15186.0            4.0   6124016   \n",
       "1  2021-06-07T00:00:00.000Z            0.0   15185.0            0.0  17532763   \n",
       "2  2020-06-29T00:00:00.000Z            4.0   15188.0            2.0   7788217   \n",
       "3  2020-10-20T00:00:00.000Z            4.0   15188.0            2.0  20344411   \n",
       "4  2021-06-04T00:00:00.000Z            0.0   15184.0            0.0   5665884   \n",
       "\n",
       "                                         coordinates boundary_id  \\\n",
       "0  40.64320000000000021600499167107045650482,-3.2...       64607   \n",
       "1  43.41980000000000217141860048286616802216,-2.7...       85380   \n",
       "2  43.53820000000000334239302901551127433777,-5.6...       75666   \n",
       "3  28.46920000000000072759576141834259033203,-16....       79040   \n",
       "4  40.40039999999999764668245916254818439484,-3.6...       71410   \n",
       "\n",
       "                  id_uda                                              title  \\\n",
       "0            54-94183090  Alquiler de Casa o chalet en camino de las Peñ...   \n",
       "1            54-86410853  Piso en venta en etxebarria tar kresentzi, 8, ...   \n",
       "2  27-99196812134_515750                                                NaN   \n",
       "3            54-91422840                     Piso en venta en guia de isora   \n",
       "4            54-93946671  Alquiler de Piso en Casco Histórico de Vicálva...   \n",
       "\n",
       "   listing_type                      date  \n",
       "0           1.0  2021-06-14T00:00:00.000Z  \n",
       "1           1.0  2021-06-07T00:00:00.000Z  \n",
       "2           1.0  2021-06-28T00:00:00.000Z  \n",
       "3           1.0  2021-06-28T00:00:00.000Z  \n",
       "4           1.0  2021-06-04T00:00:00.000Z  "
      ]
     },
     "execution_count": 12,
     "metadata": {},
     "output_type": "execute_result"
    }
   ],
   "source": [
    "df.head(5)"
   ]
  },
  {
   "cell_type": "code",
   "execution_count": 13,
   "metadata": {},
   "outputs": [
    {
     "data": {
      "text/plain": [
       "Index(['build_status', 'is_active', 'start_month', 'construction_type',\n",
       "       'date_diff', 'description', 'date_in', 'property_type', 'end_week',\n",
       "       'typology_type', 'id', 'coordinates', 'boundary_id', 'id_uda', 'title',\n",
       "       'listing_type', 'date'],\n",
       "      dtype='object')"
      ]
     },
     "execution_count": 13,
     "metadata": {},
     "output_type": "execute_result"
    }
   ],
   "source": [
    "df.columns"
   ]
  },
  {
   "cell_type": "code",
   "execution_count": 14,
   "metadata": {},
   "outputs": [],
   "source": [
    "df = df.fillna('')"
   ]
  },
  {
   "cell_type": "code",
   "execution_count": 15,
   "metadata": {},
   "outputs": [],
   "source": [
    "data = df.to_dict(orient='records')"
   ]
  },
  {
   "cell_type": "code",
   "execution_count": 16,
   "metadata": {},
   "outputs": [
    {
     "data": {
      "text/plain": [
       "<pymongo.results.InsertManyResult at 0x1d967961a40>"
      ]
     },
     "execution_count": 16,
     "metadata": {},
     "output_type": "execute_result"
    }
   ],
   "source": [
    "collection.insert_many(data)"
   ]
  }
 ],
 "metadata": {
  "kernelspec": {
   "display_name": "auth_fastapi",
   "language": "python",
   "name": "python3"
  },
  "language_info": {
   "codemirror_mode": {
    "name": "ipython",
    "version": 3
   },
   "file_extension": ".py",
   "mimetype": "text/x-python",
   "name": "python",
   "nbconvert_exporter": "python",
   "pygments_lexer": "ipython3",
   "version": "3.10.8"
  },
  "orig_nbformat": 4,
  "vscode": {
   "interpreter": {
    "hash": "c2d5cd8e35c5cb93162075b3add02110b9f0281217f99165e248ab4ef6e6a12c"
   }
  }
 },
 "nbformat": 4,
 "nbformat_minor": 2
}
